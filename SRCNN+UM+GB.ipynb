{
  "nbformat": 4,
  "nbformat_minor": 0,
  "metadata": {
    "colab": {
      "provenance": [],
      "gpuType": "T4"
    },
    "kernelspec": {
      "name": "python3",
      "display_name": "Python 3"
    },
    "language_info": {
      "name": "python"
    },
    "accelerator": "GPU"
  },
  "cells": [
    {
      "cell_type": "code",
      "execution_count": 8,
      "metadata": {
        "id": "OmtqRRHIgx13"
      },
      "outputs": [],
      "source": [
        "import os\n",
        "import re\n",
        "from scipy import ndimage, misc\n",
        "from tqdm import tqdm\n",
        "from tensorflow.keras.preprocessing.image import img_to_array\n",
        "from skimage.metrics import peak_signal_noise_ratio as psnr\n",
        "from skimage.metrics import structural_similarity as ssim\n",
        "\n",
        "from skimage.transform import resize, rescale\n",
        "import matplotlib.pyplot as plt\n",
        "import numpy as np\n",
        "np. random. seed(0)\n",
        "import cv2 as cv2\n",
        "\n",
        "import tensorflow as tf\n",
        "from tensorflow.keras.layers import Input, Dense ,Conv2D,MaxPooling2D ,Dropout\n",
        "from tensorflow.keras.layers import Conv2DTranspose, UpSampling2D, add\n",
        "from tensorflow.keras.models import Model\n",
        "from tensorflow.keras import regularizers\n",
        "from tensorflow.keras.utils import plot_model\n",
        "import tensorflow as tf"
      ]
    },
    {
      "cell_type": "code",
      "source": [
        "def sorted_alphanumeric(data):\n",
        "    convert = lambda text: int(text) if text.isdigit() else text.lower()\n",
        "    alphanum_key = lambda key: [convert(c) for c in re.split('([0-9]+)',key)]\n",
        "    return sorted(data,key = alphanum_key)\n",
        "# defining the size of the image\n",
        "SIZE = 256\n",
        "high_img = []\n",
        "path = '/content/drive/MyDrive/Super_Resolution/Data/Raw Data/high_res'\n",
        "files = os.listdir(path)\n",
        "files = sorted_alphanumeric(files)\n",
        "for i in tqdm(files):\n",
        "    if i == '855.jpg':\n",
        "        break\n",
        "    else:\n",
        "        img = cv2.imread(path + '/'+i,1)\n",
        "        # open cv reads images in BGR format so we have to convert it to RGB\n",
        "        img = cv2.cvtColor(img, cv2.COLOR_BGR2RGB)\n",
        "        #resizing image\n",
        "        img = cv2.resize(img, (SIZE, SIZE))\n",
        "        img = img.astype('float32') / 255.0\n",
        "        high_img.append(img_to_array(img))\n",
        "\n",
        "\n",
        "low_img = []\n",
        "path = '/content/drive/MyDrive/Super_Resolution/Data/Raw Data/low_res'\n",
        "files = os.listdir(path)\n",
        "files = sorted_alphanumeric(files)\n",
        "for i in tqdm(files):\n",
        "    if i == '855.jpg':\n",
        "        break\n",
        "    else:\n",
        "        img = cv2.imread(path + '/'+i,1)\n",
        "        img = cv2.cvtColor(img, cv2.COLOR_BGR2RGB)\n",
        "        #resizing image\n",
        "        img = cv2.resize(img, (SIZE, SIZE))\n",
        "        img = img.astype('float32') / 255.0\n",
        "        low_img.append(img_to_array(img))"
      ],
      "metadata": {
        "id": "KwvahMgdg3uf"
      },
      "execution_count": null,
      "outputs": []
    },
    {
      "cell_type": "code",
      "source": [
        "# for checking whether data is loaded correctly, not necessary to run this cell\n",
        "'''\n",
        "for i in range(4):\n",
        "    a = np.random.randint(0,855)\n",
        "    plt.figure(figsize=(10,10))\n",
        "    plt.subplot(1,2,1)\n",
        "    plt.title('High Resolution Imge', color = 'green', fontsize = 20)\n",
        "    plt.imshow(high_img[a])\n",
        "    plt.axis('off')\n",
        "    plt.subplot(1,2,2)\n",
        "    plt.title('low Resolution Image ', color = 'black', fontsize = 20)\n",
        "    plt.imshow(low_img[a])\n",
        "    plt.axis('off')\n",
        "'''"
      ],
      "metadata": {
        "id": "wQaK_Myyg7u6"
      },
      "execution_count": null,
      "outputs": []
    },
    {
      "cell_type": "code",
      "source": [
        "train_high_image = high_img[:700]\n",
        "train_low_image = low_img[:700]\n",
        "train_high_image = np.reshape(train_high_image,(len(train_high_image),SIZE,SIZE,3))\n",
        "train_low_image = np.reshape(train_low_image,(len(train_low_image),SIZE,SIZE,3))\n",
        "\n",
        "validation_high_image = high_img[700:830]\n",
        "validation_low_image = low_img[700:830]\n",
        "validation_high_image= np.reshape(validation_high_image,(len(validation_high_image),SIZE,SIZE,3))\n",
        "validation_low_image = np.reshape(validation_low_image,(len(validation_low_image),SIZE,SIZE,3))\n",
        "\n",
        "\n",
        "test_high_image = high_img[830:]\n",
        "test_low_image = low_img[830:]\n",
        "test_high_image= np.reshape(test_high_image,(len(test_high_image),SIZE,SIZE,3))\n",
        "test_low_image = np.reshape(test_low_image,(len(test_low_image),SIZE,SIZE,3))\n",
        "\n",
        "print(\"Shape of training images:\",train_high_image.shape)\n",
        "print(\"Shape of test images:\",test_high_image.shape)\n",
        "print(\"Shape of validation images:\",validation_high_image.shape)"
      ],
      "metadata": {
        "id": "lHkQt4qZhho3"
      },
      "execution_count": null,
      "outputs": []
    },
    {
      "cell_type": "code",
      "source": [
        "from keras import layers\n",
        "from tensorflow.keras.utils import plot_model\n",
        "\n",
        "input_img=Input(shape=(256,256,3))\n",
        "\n",
        "l1 = Conv2D(60, 3, padding='same', activation='relu')(input_img)\n",
        "\n",
        "l2 = Conv2D(30, 5, padding='same', activation='relu')(l1)\n",
        "\n",
        "l3 = Conv2D(16, 1, padding='same', activation='relu')(l2)\n",
        "\n",
        "l4 = Conv2D(10, 3, padding='same', activation='relu')(l3)\n",
        "\n",
        "l5 = Conv2D(3, 5, padding='same', activation='relu')(l4)\n",
        "\n",
        "SRCNN = Model(input_img, l5)\n",
        "\n",
        "def pixel_mse_loss(x,y):\n",
        "    return tf.reduce_mean( (x - y) ** 2 )\n",
        "SRCNN.compile(optimizer=tf.keras.optimizers.Adam(0.001),loss=pixel_mse_loss)\n",
        "SRCNN.summary()\n",
        "plot_model(SRCNN, to_file ='super_res.png',show_shapes=True)"
      ],
      "metadata": {
        "id": "VbnnQhChhqsV"
      },
      "execution_count": null,
      "outputs": []
    },
    {
      "cell_type": "code",
      "source": [
        "SRCNN.fit(train_low_image, train_high_image, epochs=10, batch_size=1,\n",
        "              validation_data=(validation_low_image, validation_high_image))"
      ],
      "metadata": {
        "id": "7L6z39boh46h"
      },
      "execution_count": null,
      "outputs": []
    },
    {
      "cell_type": "code",
      "source": [
        "def PSNR(y_true, y_pred):\n",
        "    mse = tf.reduce_mean((y_true - y_pred) ** 2)\n",
        "    psnr = 20 * tf.math.log(1 / tf.sqrt(mse)) / tf.math.log(10.0)\n",
        "    return psnr\n",
        "def pixel_mse_loss(x,y):\n",
        "    return tf.reduce_mean( (x - y) ** 2 )\n",
        "SRCNN.compile(optimizer=tf.keras.optimizers.Adam(0.01),loss=pixel_mse_loss)"
      ],
      "metadata": {
        "id": "cJCdVbqlh_gc"
      },
      "execution_count": 16,
      "outputs": []
    },
    {
      "cell_type": "code",
      "source": [
        "\n",
        "def plot_images(high,low,predicted):\n",
        "    plt.figure(figsize=(15,15))\n",
        "    plt.subplot(1,3,1)\n",
        "    plt.title('High Image', color = 'green', fontsize = 20)\n",
        "    plt.imshow(high)\n",
        "    plt.subplot(1,3,2)\n",
        "    plt.title('Low Image ', color = 'black', fontsize = 20)\n",
        "    plt.imshow(low)\n",
        "    plt.subplot(1,3,3)\n",
        "    plt.title('Predicted Image ', color = 'Red', fontsize = 20)\n",
        "    plt.imshow(predicted)\n",
        "\n",
        "    plt.show()\n",
        "SIZE=256\n",
        "epoch=0\n",
        "ssim_history = []\n",
        "psnr_history = []\n",
        "for i in range(1,25):\n",
        "\n",
        "    predicted = np.clip(SRCNN.predict(test_low_image[i].reshape(1,SIZE, SIZE,3)),0.0,1.0).reshape(SIZE, SIZE,3)\n",
        "    img = predicted\n",
        "    blur=cv2.GaussianBlur(img, (1, 1), 0)\n",
        "    mask=cv2.subtract(img,blur)\n",
        "    predicted =cv2.add(img,mask)\n",
        "    predicted = cv2.GaussianBlur(predicted, (3, 3), 0)\n",
        "\n",
        "    plot_images(test_high_image[i],test_low_image[i],predicted)\n",
        "    epoch_psnr = PSNR(test_high_image[i], predicted)\n",
        "    epoch_ssim = tf.image.ssim(test_high_image[i],predicted,max_val=1)\n",
        "    # Append value to history\n",
        "    psnr_history.append(epoch_psnr)\n",
        "    ssim_history.append(epoch_ssim)\n",
        "\n",
        "    print(\"Epoch {}: Validation PSNR = {}\".format(epoch + 1, epoch_psnr))\n",
        "    print('PSNR',PSNR(test_high_image[i],predicted),'dB', \"SSIM\",tf.image.ssim(test_high_image[i],predicted,max_val=1))\n",
        "    epoch+=1\n"
      ],
      "metadata": {
        "id": "EBVjcLlHiR-T"
      },
      "execution_count": null,
      "outputs": []
    },
    {
      "cell_type": "code",
      "source": [
        "\n",
        "# Create a figure with subplots\n",
        "fig, (ax1, ax2) = plt.subplots(2, 1, figsize=(10, 8))\n",
        "\n",
        "# Plot PSNR values\n",
        "ax1.plot(range(1, epoch + 1), psnr_history, marker='o', label='PSNR')\n",
        "ax1.set_xlabel('Epoch')\n",
        "ax1.set_ylabel('PSNR')\n",
        "ax1.set_title('PSNR vs. Epoch')\n",
        "ax1.grid(True)\n",
        "ax1.legend()\n",
        "\n",
        "# Plot SSIM values\n",
        "ax2.plot(range(1, epoch + 1), ssim_history, marker='o', label='SSIM')\n",
        "ax2.set_xlabel('Epoch')\n",
        "ax2.set_ylabel('SSIM')\n",
        "ax2.set_title('SSIM vs. Epoch')\n",
        "ax2.grid(True)\n",
        "ax2.legend()\n",
        "\n",
        "# Adjust layout to prevent overlap\n",
        "plt.tight_layout()\n",
        "\n",
        "# Show the combined plot\n",
        "plt.show()\n"
      ],
      "metadata": {
        "id": "5fJ-e9-kiXVr"
      },
      "execution_count": null,
      "outputs": []
    },
    {
      "cell_type": "code",
      "source": [
        "from google.colab import files\n",
        "from PIL import Image\n",
        "import cv2\n",
        "# Upload image from local desktop\n",
        "uploaded = files.upload()\n",
        "\n",
        "# Get the uploaded image file name\n",
        "image_filename = list(uploaded.keys())[0]\n",
        "\n",
        "# Load the image using PIL\n",
        "img = Image.open(image_filename)"
      ],
      "metadata": {
        "id": "uOovt-0Uim5K"
      },
      "execution_count": null,
      "outputs": []
    },
    {
      "cell_type": "code",
      "source": [
        "# Display the image\n",
        "plt.imshow(img)\n",
        "plt.show()"
      ],
      "metadata": {
        "id": "mNLD8KCjiypP"
      },
      "execution_count": null,
      "outputs": []
    },
    {
      "cell_type": "code",
      "source": [
        "new_filename = 'chk.png'  # Change the name as needed\n",
        "img.save(new_filename)"
      ],
      "metadata": {
        "id": "yhpw_j_Ai2Dp"
      },
      "execution_count": 23,
      "outputs": []
    },
    {
      "cell_type": "code",
      "source": [
        "img = cv2.imread('chk.png')\n",
        "img = cv2.cvtColor(img, cv2.COLOR_BGR2RGB)\n",
        "#img = downsample_image(img,4)\n",
        "#resizing image\n",
        "img = cv2.resize(img, (SIZE, SIZE))\n",
        "img = img.astype('float32') / 255.0\n",
        "#img = downsample_image(img,2)\n",
        "low_img.append(img_to_array(img))"
      ],
      "metadata": {
        "id": "V6tEeYXJi8qZ"
      },
      "execution_count": 24,
      "outputs": []
    },
    {
      "cell_type": "code",
      "source": [
        "predicted = np.clip(SRCNN.predict(img.reshape(1,SIZE, SIZE,3)),0.0,1.0).reshape(SIZE, SIZE,3)\n",
        "img = predicted\n",
        "blur=cv2.GaussianBlur(img, (1, 1), 0)\n",
        "mask=cv2.subtract(img,blur)\n",
        "predicted =cv2.add(img,mask)\n",
        "predicted = cv2.GaussianBlur(predicted, (3, 3), 0)\n",
        "\n",
        "plt.figure(figsize=(15,15))\n",
        "plt.subplot(1,2,1)\n",
        "plt.title('Low Image ', color = 'black', fontsize = 20)\n",
        "plt.imshow(img)\n",
        "plt.subplot(1,2,2)\n",
        "plt.title('Predicted Image ', color = 'Red', fontsize = 20)\n",
        "plt.imshow(predicted)\n",
        "\n",
        "plt.show()"
      ],
      "metadata": {
        "id": "pNKrtx9cjBS6"
      },
      "execution_count": null,
      "outputs": []
    }
  ]
}